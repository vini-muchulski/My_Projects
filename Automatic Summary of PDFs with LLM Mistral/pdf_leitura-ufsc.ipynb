{
 "cells": [
  {
   "cell_type": "code",
   "execution_count": 1,
   "id": "33bd20c0-a837-43b5-8c76-59a3a4b29a2c",
   "metadata": {},
   "outputs": [],
   "source": [
    "import tabula\n",
    "import PyPDF2"
   ]
  },
  {
   "cell_type": "code",
   "execution_count": null,
   "id": "c5e5ba0c-7950-4442-a6d5-80c460505abc",
   "metadata": {},
   "outputs": [],
   "source": [
    "pdf_tabela = tabula.read_pdf(\"ga.pdf\", pages = \"all\")\n"
   ]
  },
  {
   "cell_type": "code",
   "execution_count": 3,
   "id": "6262a8c2-3d3a-4f93-af6e-69d9793a6128",
   "metadata": {},
   "outputs": [
    {
     "data": {
      "text/html": [
       "<div>\n",
       "<style scoped>\n",
       "    .dataframe tbody tr th:only-of-type {\n",
       "        vertical-align: middle;\n",
       "    }\n",
       "\n",
       "    .dataframe tbody tr th {\n",
       "        vertical-align: top;\n",
       "    }\n",
       "\n",
       "    .dataframe thead th {\n",
       "        text-align: right;\n",
       "    }\n",
       "</style>\n",
       "<table border=\"1\" class=\"dataframe\">\n",
       "  <thead>\n",
       "    <tr style=\"text-align: right;\">\n",
       "      <th></th>\n",
       "      <th>Unnamed: 0</th>\n",
       "      <th>UNIVERSIDADE FEDERAL DE SANTA CATARINA\\rCENTRO DE CIÊNCIAS, TECNOLOGIAS E SAÚDE\\rCOORDENADORIA ESPECIAL DE FÍSICA,QUÍMICA E MATEMÁTICA\\rPLANO DE ENSINO</th>\n",
       "    </tr>\n",
       "  </thead>\n",
       "  <tbody>\n",
       "    <tr>\n",
       "      <th>0</th>\n",
       "      <td>SEMESTRE 2022.2</td>\n",
       "      <td>NaN</td>\n",
       "    </tr>\n",
       "  </tbody>\n",
       "</table>\n",
       "</div>"
      ],
      "text/plain": [
       "        Unnamed: 0  \\\n",
       "0  SEMESTRE 2022.2   \n",
       "\n",
       "   UNIVERSIDADE FEDERAL DE SANTA CATARINA\\rCENTRO DE CIÊNCIAS, TECNOLOGIAS E SAÚDE\\rCOORDENADORIA ESPECIAL DE FÍSICA,QUÍMICA E MATEMÁTICA\\rPLANO DE ENSINO  \n",
       "0                                                NaN                                                                                                        "
      ]
     },
     "metadata": {},
     "output_type": "display_data"
    },
    {
     "data": {
      "text/html": [
       "<div>\n",
       "<style scoped>\n",
       "    .dataframe tbody tr th:only-of-type {\n",
       "        vertical-align: middle;\n",
       "    }\n",
       "\n",
       "    .dataframe tbody tr th {\n",
       "        vertical-align: top;\n",
       "    }\n",
       "\n",
       "    .dataframe thead th {\n",
       "        text-align: right;\n",
       "    }\n",
       "</style>\n",
       "<table border=\"1\" class=\"dataframe\">\n",
       "  <thead>\n",
       "    <tr style=\"text-align: right;\">\n",
       "      <th></th>\n",
       "      <th>I. IDENTIFICAÇÃO DA DISCIPLINA:</th>\n",
       "      <th>Unnamed: 0</th>\n",
       "      <th>Unnamed: 1</th>\n",
       "      <th>Unnamed: 2</th>\n",
       "      <th>Unnamed: 3</th>\n",
       "    </tr>\n",
       "  </thead>\n",
       "  <tbody>\n",
       "    <tr>\n",
       "      <th>0</th>\n",
       "      <td>CÓDIGO</td>\n",
       "      <td>NOME DA DISCIPLINA</td>\n",
       "      <td>NO DE HORAS-AULA\\rSEMANAIS\\rTEÓRICAS          ...</td>\n",
       "      <td>TOTAL DE HORAS-AULA\\rSEMESTRAIS</td>\n",
       "      <td>NaN</td>\n",
       "    </tr>\n",
       "    <tr>\n",
       "      <th>1</th>\n",
       "      <td>FQM7103</td>\n",
       "      <td>Geometria Analítica</td>\n",
       "      <td>4</td>\n",
       "      <td>0</td>\n",
       "      <td>72.0</td>\n",
       "    </tr>\n",
       "  </tbody>\n",
       "</table>\n",
       "</div>"
      ],
      "text/plain": [
       "  I. IDENTIFICAÇÃO DA DISCIPLINA:           Unnamed: 0  \\\n",
       "0                          CÓDIGO   NOME DA DISCIPLINA   \n",
       "1                         FQM7103  Geometria Analítica   \n",
       "\n",
       "                                          Unnamed: 1  \\\n",
       "0  NO DE HORAS-AULA\\rSEMANAIS\\rTEÓRICAS          ...   \n",
       "1                                                  4   \n",
       "\n",
       "                        Unnamed: 2  Unnamed: 3  \n",
       "0  TOTAL DE HORAS-AULA\\rSEMESTRAIS         NaN  \n",
       "1                                0        72.0  "
      ]
     },
     "metadata": {},
     "output_type": "display_data"
    },
    {
     "data": {
      "text/html": [
       "<div>\n",
       "<style scoped>\n",
       "    .dataframe tbody tr th:only-of-type {\n",
       "        vertical-align: middle;\n",
       "    }\n",
       "\n",
       "    .dataframe tbody tr th {\n",
       "        vertical-align: top;\n",
       "    }\n",
       "\n",
       "    .dataframe thead th {\n",
       "        text-align: right;\n",
       "    }\n",
       "</style>\n",
       "<table border=\"1\" class=\"dataframe\">\n",
       "  <thead>\n",
       "    <tr style=\"text-align: right;\">\n",
       "      <th></th>\n",
       "      <th>HORÁRIO                                                  MODALIDADE</th>\n",
       "      <th>Unnamed: 0</th>\n",
       "      <th>Unnamed: 1</th>\n",
       "    </tr>\n",
       "  </thead>\n",
       "  <tbody>\n",
       "    <tr>\n",
       "      <th>0</th>\n",
       "      <td>TURMAS TEÓRICAS</td>\n",
       "      <td>TURMAS PRÁTICAS</td>\n",
       "      <td>NaN</td>\n",
       "    </tr>\n",
       "    <tr>\n",
       "      <th>1</th>\n",
       "      <td>01653A – 3.1010(2)\\r5.1010(2)\\r01655A – 3.1620...</td>\n",
       "      <td>NaN</td>\n",
       "      <td>Presencial</td>\n",
       "    </tr>\n",
       "  </tbody>\n",
       "</table>\n",
       "</div>"
      ],
      "text/plain": [
       "  HORÁRIO                                                  MODALIDADE  \\\n",
       "0                                    TURMAS TEÓRICAS                    \n",
       "1  01653A – 3.1010(2)\\r5.1010(2)\\r01655A – 3.1620...                    \n",
       "\n",
       "        Unnamed: 0  Unnamed: 1  \n",
       "0  TURMAS PRÁTICAS         NaN  \n",
       "1              NaN  Presencial  "
      ]
     },
     "metadata": {},
     "output_type": "display_data"
    },
    {
     "data": {
      "text/html": [
       "<div>\n",
       "<style scoped>\n",
       "    .dataframe tbody tr th:only-of-type {\n",
       "        vertical-align: middle;\n",
       "    }\n",
       "\n",
       "    .dataframe tbody tr th {\n",
       "        vertical-align: top;\n",
       "    }\n",
       "\n",
       "    .dataframe thead th {\n",
       "        text-align: right;\n",
       "    }\n",
       "</style>\n",
       "<table border=\"1\" class=\"dataframe\">\n",
       "  <thead>\n",
       "    <tr style=\"text-align: right;\">\n",
       "      <th></th>\n",
       "      <th>II. PROFESSOR(ES) MINISTRANTE(S)</th>\n",
       "    </tr>\n",
       "  </thead>\n",
       "  <tbody>\n",
       "    <tr>\n",
       "      <th>0</th>\n",
       "      <td>Profa. Marcia Martins Szortyka (e-mail: marcia...</td>\n",
       "    </tr>\n",
       "  </tbody>\n",
       "</table>\n",
       "</div>"
      ],
      "text/plain": [
       "                    II. PROFESSOR(ES) MINISTRANTE(S)\n",
       "0  Profa. Marcia Martins Szortyka (e-mail: marcia..."
      ]
     },
     "metadata": {},
     "output_type": "display_data"
    },
    {
     "data": {
      "text/html": [
       "<div>\n",
       "<style scoped>\n",
       "    .dataframe tbody tr th:only-of-type {\n",
       "        vertical-align: middle;\n",
       "    }\n",
       "\n",
       "    .dataframe tbody tr th {\n",
       "        vertical-align: top;\n",
       "    }\n",
       "\n",
       "    .dataframe thead th {\n",
       "        text-align: right;\n",
       "    }\n",
       "</style>\n",
       "<table border=\"1\" class=\"dataframe\">\n",
       "  <thead>\n",
       "    <tr style=\"text-align: right;\">\n",
       "      <th></th>\n",
       "      <th>III. PRÉ-REQUISITO(S)</th>\n",
       "      <th>Unnamed: 0</th>\n",
       "    </tr>\n",
       "  </thead>\n",
       "  <tbody>\n",
       "    <tr>\n",
       "      <th>0</th>\n",
       "      <td>CÓDIGO</td>\n",
       "      <td>NOME DA DISCIPLINA</td>\n",
       "    </tr>\n",
       "    <tr>\n",
       "      <th>1</th>\n",
       "      <td>NaN</td>\n",
       "      <td>Não há</td>\n",
       "    </tr>\n",
       "  </tbody>\n",
       "</table>\n",
       "</div>"
      ],
      "text/plain": [
       "  III. PRÉ-REQUISITO(S)          Unnamed: 0\n",
       "0                CÓDIGO  NOME DA DISCIPLINA\n",
       "1                   NaN              Não há"
      ]
     },
     "metadata": {},
     "output_type": "display_data"
    },
    {
     "data": {
      "text/html": [
       "<div>\n",
       "<style scoped>\n",
       "    .dataframe tbody tr th:only-of-type {\n",
       "        vertical-align: middle;\n",
       "    }\n",
       "\n",
       "    .dataframe tbody tr th {\n",
       "        vertical-align: top;\n",
       "    }\n",
       "\n",
       "    .dataframe thead th {\n",
       "        text-align: right;\n",
       "    }\n",
       "</style>\n",
       "<table border=\"1\" class=\"dataframe\">\n",
       "  <thead>\n",
       "    <tr style=\"text-align: right;\">\n",
       "      <th></th>\n",
       "      <th>IV. CURSO(S) PARA O(S) QUAL(IS) A DISCIPLINA É OFERECIDA</th>\n",
       "    </tr>\n",
       "  </thead>\n",
       "  <tbody>\n",
       "    <tr>\n",
       "      <th>0</th>\n",
       "      <td>Graduação em Engenharia de Computação\\rGraduaç...</td>\n",
       "    </tr>\n",
       "  </tbody>\n",
       "</table>\n",
       "</div>"
      ],
      "text/plain": [
       "  IV. CURSO(S) PARA O(S) QUAL(IS) A DISCIPLINA É OFERECIDA\n",
       "0  Graduação em Engenharia de Computação\\rGraduaç...      "
      ]
     },
     "metadata": {},
     "output_type": "display_data"
    },
    {
     "data": {
      "text/html": [
       "<div>\n",
       "<style scoped>\n",
       "    .dataframe tbody tr th:only-of-type {\n",
       "        vertical-align: middle;\n",
       "    }\n",
       "\n",
       "    .dataframe tbody tr th {\n",
       "        vertical-align: top;\n",
       "    }\n",
       "\n",
       "    .dataframe thead th {\n",
       "        text-align: right;\n",
       "    }\n",
       "</style>\n",
       "<table border=\"1\" class=\"dataframe\">\n",
       "  <thead>\n",
       "    <tr style=\"text-align: right;\">\n",
       "      <th></th>\n",
       "      <th>V. JUSTIFICATIVA</th>\n",
       "    </tr>\n",
       "  </thead>\n",
       "  <tbody>\n",
       "    <tr>\n",
       "      <th>0</th>\n",
       "      <td>A Geometria Analítica propõe uma abordagem de ...</td>\n",
       "    </tr>\n",
       "  </tbody>\n",
       "</table>\n",
       "</div>"
      ],
      "text/plain": [
       "                                    V. JUSTIFICATIVA\n",
       "0  A Geometria Analítica propõe uma abordagem de ..."
      ]
     },
     "metadata": {},
     "output_type": "display_data"
    },
    {
     "data": {
      "text/html": [
       "<div>\n",
       "<style scoped>\n",
       "    .dataframe tbody tr th:only-of-type {\n",
       "        vertical-align: middle;\n",
       "    }\n",
       "\n",
       "    .dataframe tbody tr th {\n",
       "        vertical-align: top;\n",
       "    }\n",
       "\n",
       "    .dataframe thead th {\n",
       "        text-align: right;\n",
       "    }\n",
       "</style>\n",
       "<table border=\"1\" class=\"dataframe\">\n",
       "  <thead>\n",
       "    <tr style=\"text-align: right;\">\n",
       "      <th></th>\n",
       "      <th>VI. EMENTA</th>\n",
       "    </tr>\n",
       "  </thead>\n",
       "  <tbody>\n",
       "    <tr>\n",
       "      <th>0</th>\n",
       "      <td>Matrizes.  Determinantes.  Sistemas  de  equaç...</td>\n",
       "    </tr>\n",
       "  </tbody>\n",
       "</table>\n",
       "</div>"
      ],
      "text/plain": [
       "                                          VI. EMENTA\n",
       "0  Matrizes.  Determinantes.  Sistemas  de  equaç..."
      ]
     },
     "metadata": {},
     "output_type": "display_data"
    },
    {
     "data": {
      "text/html": [
       "<div>\n",
       "<style scoped>\n",
       "    .dataframe tbody tr th:only-of-type {\n",
       "        vertical-align: middle;\n",
       "    }\n",
       "\n",
       "    .dataframe tbody tr th {\n",
       "        vertical-align: top;\n",
       "    }\n",
       "\n",
       "    .dataframe thead th {\n",
       "        text-align: right;\n",
       "    }\n",
       "</style>\n",
       "<table border=\"1\" class=\"dataframe\">\n",
       "  <thead>\n",
       "    <tr style=\"text-align: right;\">\n",
       "      <th></th>\n",
       "      <th>VII. OBJETIVOS</th>\n",
       "    </tr>\n",
       "  </thead>\n",
       "  <tbody>\n",
       "    <tr>\n",
       "      <th>0</th>\n",
       "      <td>Objetivos Gerais:\\rTornar o aluno apto a resol...</td>\n",
       "    </tr>\n",
       "  </tbody>\n",
       "</table>\n",
       "</div>"
      ],
      "text/plain": [
       "                                      VII. OBJETIVOS\n",
       "0  Objetivos Gerais:\\rTornar o aluno apto a resol..."
      ]
     },
     "metadata": {},
     "output_type": "display_data"
    },
    {
     "data": {
      "text/html": [
       "<div>\n",
       "<style scoped>\n",
       "    .dataframe tbody tr th:only-of-type {\n",
       "        vertical-align: middle;\n",
       "    }\n",
       "\n",
       "    .dataframe tbody tr th {\n",
       "        vertical-align: top;\n",
       "    }\n",
       "\n",
       "    .dataframe thead th {\n",
       "        text-align: right;\n",
       "    }\n",
       "</style>\n",
       "<table border=\"1\" class=\"dataframe\">\n",
       "  <thead>\n",
       "    <tr style=\"text-align: right;\">\n",
       "      <th></th>\n",
       "      <th>X. METODOLOGIA E INSTRUMENTOS DE AVALIAÇÃO</th>\n",
       "    </tr>\n",
       "  </thead>\n",
       "  <tbody>\n",
       "    <tr>\n",
       "      <th>0</th>\n",
       "      <td> A verificação do rendimento escolar compreen...</td>\n",
       "    </tr>\n",
       "    <tr>\n",
       "      <th>1</th>\n",
       "      <td>atingidos conjuntamente. Será obrigatória a fr...</td>\n",
       "    </tr>\n",
       "    <tr>\n",
       "      <th>2</th>\n",
       "      <td>das mesmas (Frequência Suficiente -  FS),  fic...</td>\n",
       "    </tr>\n",
       "    <tr>\n",
       "      <th>3</th>\n",
       "      <td>atividades (Frequência Insuficiente – FI).</td>\n",
       "    </tr>\n",
       "    <tr>\n",
       "      <th>4</th>\n",
       "      <td> A nota mínima para aprovação na disciplina s...</td>\n",
       "    </tr>\n",
       "    <tr>\n",
       "      <th>5</th>\n",
       "      <td>17/CUn/1997).</td>\n",
       "    </tr>\n",
       "    <tr>\n",
       "      <th>6</th>\n",
       "      <td> O aluno com Frequência Suficiente (FS) e méd...</td>\n",
       "    </tr>\n",
       "    <tr>\n",
       "      <th>7</th>\n",
       "      <td>uma nova avaliação no final do semestre (REC),...</td>\n",
       "    </tr>\n",
       "    <tr>\n",
       "      <th>8</th>\n",
       "      <td>calculada por meio da média aritmética entre a...</td>\n",
       "    </tr>\n",
       "    <tr>\n",
       "      <th>9</th>\n",
       "      <td>avaliação (REC). (Art. 70 e 71 da Res. no 17/C...</td>\n",
       "    </tr>\n",
       "    <tr>\n",
       "      <th>10</th>\n",
       "      <td>   A avaliação de recuperação (REC) englobará...</td>\n",
       "    </tr>\n",
       "    <tr>\n",
       "      <th>11</th>\n",
       "      <td>  Ao aluno que não comparecer às avaliações o...</td>\n",
       "    </tr>\n",
       "    <tr>\n",
       "      <th>12</th>\n",
       "      <td>(zero). (Art. 70, § 4o da Res. no 17/CUn/1997)</td>\n",
       "    </tr>\n",
       "    <tr>\n",
       "      <th>13</th>\n",
       "      <td>Avaliações Escritas</td>\n",
       "    </tr>\n",
       "    <tr>\n",
       "      <th>14</th>\n",
       "      <td>As avaliações consistem em 3 provas presenciais</td>\n",
       "    </tr>\n",
       "    <tr>\n",
       "      <th>15</th>\n",
       "      <td>Frequência</td>\n",
       "    </tr>\n",
       "    <tr>\n",
       "      <th>16</th>\n",
       "      <td>A frequência será aferida através da presença ...</td>\n",
       "    </tr>\n",
       "    <tr>\n",
       "      <th>17</th>\n",
       "      <td>Pedido de Nova Avaliação</td>\n",
       "    </tr>\n",
       "    <tr>\n",
       "      <th>18</th>\n",
       "      <td> Pedido de Nova Avaliação em caso de perda po...</td>\n",
       "    </tr>\n",
       "    <tr>\n",
       "      <th>19</th>\n",
       "      <td>motivo de força maior e plenamente justificado...</td>\n",
       "    </tr>\n",
       "    <tr>\n",
       "      <th>20</th>\n",
       "      <td>deverá formalizar pedido à Chefia do Departame...</td>\n",
       "    </tr>\n",
       "    <tr>\n",
       "      <th>21</th>\n",
       "      <td>dias úteis, apresentando documentação comproba...</td>\n",
       "    </tr>\n",
       "    <tr>\n",
       "      <th>22</th>\n",
       "      <td> O pedido de nova avaliação deverá ser formal...</td>\n",
       "    </tr>\n",
       "    <tr>\n",
       "      <th>23</th>\n",
       "      <td>A Nova Avaliação será realizada no final do se...</td>\n",
       "    </tr>\n",
       "    <tr>\n",
       "      <th>24</th>\n",
       "      <td>XI. CRONOGRAMA TEÓRICO/PRÁTICO</td>\n",
       "    </tr>\n",
       "    <tr>\n",
       "      <th>25</th>\n",
       "      <td>AULA</td>\n",
       "    </tr>\n",
       "    <tr>\n",
       "      <th>26</th>\n",
       "      <td>DATA ASSUNTO</td>\n",
       "    </tr>\n",
       "    <tr>\n",
       "      <th>27</th>\n",
       "      <td>(semana)</td>\n",
       "    </tr>\n",
       "    <tr>\n",
       "      <th>28</th>\n",
       "      <td>1 25/08 Matrizes</td>\n",
       "    </tr>\n",
       "    <tr>\n",
       "      <th>29</th>\n",
       "      <td>2 30/08 e 01/09 Matrizes inversas – Método de ...</td>\n",
       "    </tr>\n",
       "  </tbody>\n",
       "</table>\n",
       "</div>"
      ],
      "text/plain": [
       "           X. METODOLOGIA E INSTRUMENTOS DE AVALIAÇÃO\n",
       "0    A verificação do rendimento escolar compreen...\n",
       "1   atingidos conjuntamente. Será obrigatória a fr...\n",
       "2   das mesmas (Frequência Suficiente -  FS),  fic...\n",
       "3          atividades (Frequência Insuficiente – FI).\n",
       "4    A nota mínima para aprovação na disciplina s...\n",
       "5                                       17/CUn/1997).\n",
       "6    O aluno com Frequência Suficiente (FS) e méd...\n",
       "7   uma nova avaliação no final do semestre (REC),...\n",
       "8   calculada por meio da média aritmética entre a...\n",
       "9   avaliação (REC). (Art. 70 e 71 da Res. no 17/C...\n",
       "10     A avaliação de recuperação (REC) englobará...\n",
       "11    Ao aluno que não comparecer às avaliações o...\n",
       "12     (zero). (Art. 70, § 4o da Res. no 17/CUn/1997)\n",
       "13                                Avaliações Escritas\n",
       "14    As avaliações consistem em 3 provas presenciais\n",
       "15                                         Frequência\n",
       "16  A frequência será aferida através da presença ...\n",
       "17                           Pedido de Nova Avaliação\n",
       "18   Pedido de Nova Avaliação em caso de perda po...\n",
       "19  motivo de força maior e plenamente justificado...\n",
       "20  deverá formalizar pedido à Chefia do Departame...\n",
       "21  dias úteis, apresentando documentação comproba...\n",
       "22   O pedido de nova avaliação deverá ser formal...\n",
       "23  A Nova Avaliação será realizada no final do se...\n",
       "24                     XI. CRONOGRAMA TEÓRICO/PRÁTICO\n",
       "25                                               AULA\n",
       "26                                       DATA ASSUNTO\n",
       "27                                           (semana)\n",
       "28                                   1 25/08 Matrizes\n",
       "29  2 30/08 e 01/09 Matrizes inversas – Método de ..."
      ]
     },
     "metadata": {},
     "output_type": "display_data"
    },
    {
     "data": {
      "text/html": [
       "<div>\n",
       "<style scoped>\n",
       "    .dataframe tbody tr th:only-of-type {\n",
       "        vertical-align: middle;\n",
       "    }\n",
       "\n",
       "    .dataframe tbody tr th {\n",
       "        vertical-align: top;\n",
       "    }\n",
       "\n",
       "    .dataframe thead th {\n",
       "        text-align: right;\n",
       "    }\n",
       "</style>\n",
       "<table border=\"1\" class=\"dataframe\">\n",
       "  <thead>\n",
       "    <tr style=\"text-align: right;\">\n",
       "      <th></th>\n",
       "      <th>3</th>\n",
       "      <th>06/09 e 08/09</th>\n",
       "      <th>Determinantes, Matriz Adjunta</th>\n",
       "    </tr>\n",
       "  </thead>\n",
       "  <tbody>\n",
       "    <tr>\n",
       "      <th>0</th>\n",
       "      <td>4</td>\n",
       "      <td>13/09 e 15/09</td>\n",
       "      <td>Sistema de equações lineares</td>\n",
       "    </tr>\n",
       "    <tr>\n",
       "      <th>1</th>\n",
       "      <td>5</td>\n",
       "      <td>20/09 e 22/09</td>\n",
       "      <td>Sistemas de equações lineares</td>\n",
       "    </tr>\n",
       "    <tr>\n",
       "      <th>2</th>\n",
       "      <td>6</td>\n",
       "      <td>27/09 e 29/09</td>\n",
       "      <td>Revisão para prova , Prova 1</td>\n",
       "    </tr>\n",
       "    <tr>\n",
       "      <th>3</th>\n",
       "      <td>7</td>\n",
       "      <td>04/10 e 06/10</td>\n",
       "      <td>Introdução ao estudo de vetores,</td>\n",
       "    </tr>\n",
       "    <tr>\n",
       "      <th>4</th>\n",
       "      <td>8</td>\n",
       "      <td>11/10 e 13/10</td>\n",
       "      <td>Dependência e independência de vetores, Produt...</td>\n",
       "    </tr>\n",
       "    <tr>\n",
       "      <th>5</th>\n",
       "      <td>9</td>\n",
       "      <td>18/10 e 20/10</td>\n",
       "      <td>Produto escalar,Produtos vetorial e misto;</td>\n",
       "    </tr>\n",
       "    <tr>\n",
       "      <th>6</th>\n",
       "      <td>10</td>\n",
       "      <td>25/10 e 27/10</td>\n",
       "      <td>Estudo da reta</td>\n",
       "    </tr>\n",
       "    <tr>\n",
       "      <th>7</th>\n",
       "      <td>11</td>\n",
       "      <td>01/11 e 03/11</td>\n",
       "      <td>Estuda da reta, Estudo do plano</td>\n",
       "    </tr>\n",
       "    <tr>\n",
       "      <th>8</th>\n",
       "      <td>12</td>\n",
       "      <td>08/11 e 10/11</td>\n",
       "      <td>Estudo do plano</td>\n",
       "    </tr>\n",
       "    <tr>\n",
       "      <th>9</th>\n",
       "      <td>13</td>\n",
       "      <td>15/11 e 17/11</td>\n",
       "      <td>Feriado, Revisão para prova</td>\n",
       "    </tr>\n",
       "    <tr>\n",
       "      <th>10</th>\n",
       "      <td>14</td>\n",
       "      <td>22/11 e 24/11</td>\n",
       "      <td>Prova 2 . Parábola</td>\n",
       "    </tr>\n",
       "    <tr>\n",
       "      <th>11</th>\n",
       "      <td>15</td>\n",
       "      <td>29/11 e 01/12</td>\n",
       "      <td>Elipse , Hipérbole</td>\n",
       "    </tr>\n",
       "    <tr>\n",
       "      <th>12</th>\n",
       "      <td>16</td>\n",
       "      <td>06/12 e 08/12</td>\n",
       "      <td>Superfícies quádricas</td>\n",
       "    </tr>\n",
       "    <tr>\n",
       "      <th>13</th>\n",
       "      <td>17</td>\n",
       "      <td>13/12 e 15/12</td>\n",
       "      <td>Revisão pra prova, Prova 3</td>\n",
       "    </tr>\n",
       "    <tr>\n",
       "      <th>14</th>\n",
       "      <td>18</td>\n",
       "      <td>20/12 e 22/12</td>\n",
       "      <td>Recuperação , divulgação de notas</td>\n",
       "    </tr>\n",
       "  </tbody>\n",
       "</table>\n",
       "</div>"
      ],
      "text/plain": [
       "     3  06/09 e 08/09                      Determinantes, Matriz Adjunta\n",
       "0    4  13/09 e 15/09                       Sistema de equações lineares\n",
       "1    5  20/09 e 22/09                      Sistemas de equações lineares\n",
       "2    6  27/09 e 29/09                       Revisão para prova , Prova 1\n",
       "3    7  04/10 e 06/10                   Introdução ao estudo de vetores,\n",
       "4    8  11/10 e 13/10  Dependência e independência de vetores, Produt...\n",
       "5    9  18/10 e 20/10         Produto escalar,Produtos vetorial e misto;\n",
       "6   10  25/10 e 27/10                                     Estudo da reta\n",
       "7   11  01/11 e 03/11                    Estuda da reta, Estudo do plano\n",
       "8   12  08/11 e 10/11                                    Estudo do plano\n",
       "9   13  15/11 e 17/11                        Feriado, Revisão para prova\n",
       "10  14  22/11 e 24/11                                 Prova 2 . Parábola\n",
       "11  15  29/11 e 01/12                                 Elipse , Hipérbole\n",
       "12  16  06/12 e 08/12                              Superfícies quádricas\n",
       "13  17  13/12 e 15/12                         Revisão pra prova, Prova 3\n",
       "14  18  20/12 e 22/12                  Recuperação , divulgação de notas"
      ]
     },
     "metadata": {},
     "output_type": "display_data"
    },
    {
     "data": {
      "text/html": [
       "<div>\n",
       "<style scoped>\n",
       "    .dataframe tbody tr th:only-of-type {\n",
       "        vertical-align: middle;\n",
       "    }\n",
       "\n",
       "    .dataframe tbody tr th {\n",
       "        vertical-align: top;\n",
       "    }\n",
       "\n",
       "    .dataframe thead th {\n",
       "        text-align: right;\n",
       "    }\n",
       "</style>\n",
       "<table border=\"1\" class=\"dataframe\">\n",
       "  <thead>\n",
       "    <tr style=\"text-align: right;\">\n",
       "      <th></th>\n",
       "      <th>DATA</th>\n",
       "      <th>Unnamed: 0</th>\n",
       "    </tr>\n",
       "  </thead>\n",
       "  <tbody>\n",
       "    <tr>\n",
       "      <th>0</th>\n",
       "      <td>07/09</td>\n",
       "      <td>Independência do Brasil</td>\n",
       "    </tr>\n",
       "    <tr>\n",
       "      <th>1</th>\n",
       "      <td>12/10</td>\n",
       "      <td>Nossa Senhora Aparecida</td>\n",
       "    </tr>\n",
       "    <tr>\n",
       "      <th>2</th>\n",
       "      <td>28/10</td>\n",
       "      <td>Dia do servidor público</td>\n",
       "    </tr>\n",
       "    <tr>\n",
       "      <th>3</th>\n",
       "      <td>02/11</td>\n",
       "      <td>Finados</td>\n",
       "    </tr>\n",
       "    <tr>\n",
       "      <th>4</th>\n",
       "      <td>15/11</td>\n",
       "      <td>Proclamação da República</td>\n",
       "    </tr>\n",
       "  </tbody>\n",
       "</table>\n",
       "</div>"
      ],
      "text/plain": [
       "    DATA                Unnamed: 0\n",
       "0  07/09   Independência do Brasil\n",
       "1  12/10   Nossa Senhora Aparecida\n",
       "2  28/10   Dia do servidor público\n",
       "3  02/11                   Finados\n",
       "4  15/11  Proclamação da República"
      ]
     },
     "metadata": {},
     "output_type": "display_data"
    },
    {
     "data": {
      "text/html": [
       "<div>\n",
       "<style scoped>\n",
       "    .dataframe tbody tr th:only-of-type {\n",
       "        vertical-align: middle;\n",
       "    }\n",
       "\n",
       "    .dataframe tbody tr th {\n",
       "        vertical-align: top;\n",
       "    }\n",
       "\n",
       "    .dataframe thead th {\n",
       "        text-align: right;\n",
       "    }\n",
       "</style>\n",
       "<table border=\"1\" class=\"dataframe\">\n",
       "  <thead>\n",
       "    <tr style=\"text-align: right;\">\n",
       "      <th></th>\n",
       "      <th>XIII. BIBLIOGRAFIA BÁSICA</th>\n",
       "    </tr>\n",
       "  </thead>\n",
       "  <tbody>\n",
       "    <tr>\n",
       "      <th>0</th>\n",
       "      <td>1 . BOULOS, Paulo; CAMARGO, Ivan de. Geometria...</td>\n",
       "    </tr>\n",
       "    <tr>\n",
       "      <th>1</th>\n",
       "      <td>XIV. BIBLIOGRAFIA COMPLEMENTAR</td>\n",
       "    </tr>\n",
       "    <tr>\n",
       "      <th>2</th>\n",
       "      <td>5. JULIANELLI, José Roberto. Cálculo vetorial ...</td>\n",
       "    </tr>\n",
       "  </tbody>\n",
       "</table>\n",
       "</div>"
      ],
      "text/plain": [
       "                           XIII. BIBLIOGRAFIA BÁSICA\n",
       "0  1 . BOULOS, Paulo; CAMARGO, Ivan de. Geometria...\n",
       "1                     XIV. BIBLIOGRAFIA COMPLEMENTAR\n",
       "2  5. JULIANELLI, José Roberto. Cálculo vetorial ..."
      ]
     },
     "metadata": {},
     "output_type": "display_data"
    }
   ],
   "source": [
    "for tabela in pdf_tabela:\n",
    "    display(tabela)"
   ]
  },
  {
   "cell_type": "code",
   "execution_count": 4,
   "id": "2e6fb963-81a3-4052-bd0b-e7cd78fe0e10",
   "metadata": {},
   "outputs": [],
   "source": [
    "arquivo_pdf = open(\"ga.pdf\",\"rb\")"
   ]
  },
  {
   "cell_type": "code",
   "execution_count": 5,
   "id": "62daa921-20cd-4ef7-8867-5fcb0cff850d",
   "metadata": {},
   "outputs": [],
   "source": [
    "pdf = PyPDF2.PdfReader(arquivo_pdf)"
   ]
  },
  {
   "cell_type": "code",
   "execution_count": 6,
   "id": "c1fce1d0-528b-4253-9cfd-3d90d84667ff",
   "metadata": {},
   "outputs": [
    {
     "data": {
      "text/plain": [
       "3"
      ]
     },
     "execution_count": 6,
     "metadata": {},
     "output_type": "execute_result"
    }
   ],
   "source": [
    "len(pdf.pages)"
   ]
  },
  {
   "cell_type": "code",
   "execution_count": 7,
   "id": "599753e0-2757-4afa-8a0f-b3b9259b86a0",
   "metadata": {},
   "outputs": [],
   "source": [
    "pagina =  pdf.pages[2]\n"
   ]
  },
  {
   "cell_type": "code",
   "execution_count": 8,
   "id": "a376891a-8352-4839-a2e9-37fa749beaf2",
   "metadata": {},
   "outputs": [
    {
     "data": {
      "text/plain": [
       "'306/09 e 08/09 Determinantes, Matriz Adjunta\\n413/09 e 15/09 Sistema de equações lineares\\n520/09 e 22/09 Sistemas de equações lineares\\n627/09 e 29/09 Revisão para prova , Prova 1\\n704/10 e 06/10 Introdução ao estudo de vetores,\\n811/10 e 13/10 Dependência e independência de vetores, Produto escalar\\n918/10 e 20/10 Produto escalar,Produtos vetorial e misto; \\n1025/10 e 27/10 Estudo da reta \\n1101/11 e 03/11 Estuda da reta, Estudo do plano\\n1208/11 e 10/11 Estudo do plano \\n1315/11 e 17/11 Feriado, Revisão para prova\\n1422/11 e 24/11 Prova 2 . Parábola\\n1529/11 e 01/12 Elipse , Hipérbole\\n1606/12 e 08/12 Superfícies quádricas\\n1713/12 e 15/12  Revisão pra prova, Prova 3\\n1820/12 e 22/12 Recuperação , divulgação de notas\\nXII. Feriados previstos para o semestre 20 22.2:\\nDATA\\n07/09Independência do Brasil\\n12/10Nossa Senhora Aparecida\\n28/10 Dia do servidor público\\n02/11Finados\\n15/11Proclamação da República\\nXIII. BIBLIOGRAFIA BÁSICA\\n1 . BOULOS, Paulo; CAMARGO, Ivan de. Geometria analítica: um tratamento vetorial.  3. ed. São Paulo: Prentice Hall, 2005. \\n543p.\\n2. KUHLKAMP, Nilo. Matrizes e sistemas de equações lineares.  2. ed. Florianópolis: Editora da UFSC, 2007. 166p.\\n3. STEINBRUCH, Alfredo; WINTERLE, Paulo. Álgebra linear. 2. ed. São Paulo: Pearson Makron Books, 1987. 583 p.\\n4. STEINBRUCH, Alfredo; WINTERLE, Paulo. Geometria analítica. 2. ed. São Paulo: McGraw Hill, 1987. 292p.  \\nXIV. BIBLIOGRAFIA COMPLEMENTAR\\n5. JULIANELLI, José Roberto. Cálculo vetorial e geometria analítica . 1 .ed. Rio de Janeiro: Ciência Moderna, 2008. 298p.\\n6.LIMA, Elon Lages. Geometria analítica e álgebra linear . 2. ed. Rio de Janeiro: IMPA, 2006. 323p.\\n7.LIPSCHUTZ, Seymour; LIPSON, Marc. Álgebra linear. 4. ed. Porto Alegre: Bookman, 2011. 432 p.\\n8.LORETO, Ana Célia da Costa; LORETO JR, Armando Pereira.  Vetores e geometria analítica . 4. ed. São Paulo: Livros\\nTécnicos e Científicos, 2014. 204p.\\n9.SANTOS, Fabiano José dos; FERREIRA, Silvimar Fábio. Geometria analítica. 1. ed. Porto Alegre: Bookman, 2009. 216 p.\\nOs livros acima citados constam na Biblioteca Universitária e Setorial de Araranguá. \\n____________________________________\\nProfa. Marcia Martins Szortyka\\nAprovado na Reunião do Colegiado d e Departamento  ___/___/___\\nAprovado na Reunião do Colegiado do Curso  ___/___/_________________________________\\nChefia\\n______________________________\\nCoordenação'"
      ]
     },
     "execution_count": 8,
     "metadata": {},
     "output_type": "execute_result"
    }
   ],
   "source": [
    "conteudo_pagina = pagina.extract_text()\n",
    "conteudo_pagina"
   ]
  },
  {
   "cell_type": "code",
   "execution_count": 9,
   "id": "4c0825f6-8827-4cd9-b422-9e53332ae61c",
   "metadata": {},
   "outputs": [
    {
     "data": {
      "text/plain": [
       "1390"
      ]
     },
     "execution_count": 9,
     "metadata": {},
     "output_type": "execute_result"
    }
   ],
   "source": [
    "pos_basica = conteudo_pagina.find(\"BIBLIOGRAFIA BÁSICA\")\n",
    "pos_complementar = conteudo_pagina.find(\"BIBLIOGRAFIA COMPLEMENTAR\")\n",
    "pos_complementar"
   ]
  },
  {
   "cell_type": "code",
   "execution_count": 10,
   "id": "6d711089-7548-42c1-aa4b-4c77a5b74a67",
   "metadata": {},
   "outputs": [],
   "source": [
    "bib_basica = conteudo_pagina[pos_basica:pos_complementar]\n",
    "bib_complementar = conteudo_pagina[pos_complementar:]"
   ]
  },
  {
   "cell_type": "code",
   "execution_count": 13,
   "id": "8b4aaafe-2f45-4ca2-9711-070e4f6056b2",
   "metadata": {},
   "outputs": [
    {
     "data": {
      "text/plain": [
       "2089"
      ]
     },
     "execution_count": 13,
     "metadata": {},
     "output_type": "execute_result"
    }
   ],
   "source": [
    "fim = conteudo_pagina.find(\"___________\")\n",
    "fim"
   ]
  },
  {
   "cell_type": "code",
   "execution_count": 14,
   "id": "f9c319c3-3d16-460f-8159-01472f1f5162",
   "metadata": {},
   "outputs": [
    {
     "name": "stdout",
     "output_type": "stream",
     "text": [
      "BIBLIOGRAFIA BÁSICA\n",
      "1 . BOULOS, Paulo; CAMARGO, Ivan de. Geometria analítica: um tratamento vetorial.  3. ed. São Paulo: Prentice Hall, 2005. \n",
      "543p.\n",
      "2. KUHLKAMP, Nilo. Matrizes e sistemas de equações lineares.  2. ed. Florianópolis: Editora da UFSC, 2007. 166p.\n",
      "3. STEINBRUCH, Alfredo; WINTERLE, Paulo. Álgebra linear. 2. ed. São Paulo: Pearson Makron Books, 1987. 583 p.\n",
      "4. STEINBRUCH, Alfredo; WINTERLE, Paulo. Geometria analítica. 2. ed. São Paulo: McGraw Hill, 1987. 292p.  \n",
      "XIV. \n",
      "BIBLIOGRAFIA COMPLEMENTAR\n",
      "5. JULIANELLI, José Roberto. Cálculo vetorial e geometria analítica . 1 .ed. Rio de Janeiro: Ciência Moderna, 2008. 298p.\n",
      "6.LIMA, Elon Lages. Geometria analítica e álgebra linear . 2. ed. Rio de Janeiro: IMPA, 2006. 323p.\n",
      "7.LIPSCHUTZ, Seymour; LIPSON, Marc. Álgebra linear. 4. ed. Porto Alegre: Bookman, 2011. 432 p.\n",
      "8.LORETO, Ana Célia da Costa; LORETO JR, Armando Pereira.  Vetores e geometria analítica . 4. ed. São Paulo: Livros\n",
      "Técnicos e Científicos, 2014. 204p.\n",
      "9.SANTOS, Fabiano José dos; FERREIRA, Silvimar Fábio. Geometria analítica. 1. ed. Porto Alegre: Bookman, 2009. 216 p.\n",
      "Os livros acima citados constam na Biblioteca Universitária e Setorial de Araranguá. \n",
      "\n"
     ]
    }
   ],
   "source": [
    "bib_complementar = conteudo_pagina[pos_complementar:(fim)]\n",
    "print(bib_basica)\n",
    "print(bib_complementar)\n"
   ]
  },
  {
   "cell_type": "code",
   "execution_count": 22,
   "id": "a0b27d76-baf2-4c7c-94ef-e012e81fca3a",
   "metadata": {},
   "outputs": [
    {
     "name": "stdout",
     "output_type": "stream",
     "text": [
      "BIBLIOGRAFIA BÁSICA\n",
      "1 . BOULOS, Paulo; CAMARGO, Ivan de. Geometria analítica: um tratamento vetorial.  3. ed. São Paulo: Prentice Hall, 2005. \n",
      "543p.\n",
      "2. KUHLKAMP, Nilo. Matrizes e sistemas de equações lineares.  2. ed. Florianópolis: Editora da UFSC, 2007. 166p.\n",
      "3. STEINBRUCH, Alfredo; WINTERLE, Paulo. Álgebra linear. 2. ed. São Paulo: Pearson Makron Books, 1987. 583 p.\n",
      "4. STEINBRUCH, Alfredo; WINTERLE, Paulo. Geometria analítica. 2. ed. São Paulo: McGraw Hill, 1987. 292p.  \n",
      "XIV. \n",
      " \n",
      "BIBLIOGRAFIA COMPLEMENTAR\n",
      "5. JULIANELLI, José Roberto. Cálculo vetorial e geometria analítica . 1 .ed. Rio de Janeiro: Ciência Moderna, 2008. 298p.\n",
      "6.LIMA, Elon Lages. Geometria analítica e álgebra linear . 2. ed. Rio de Janeiro: IMPA, 2006. 323p.\n",
      "7.LIPSCHUTZ, Seymour; LIPSON, Marc. Álgebra linear. 4. ed. Porto Alegre: Bookman, 2011. 432 p.\n",
      "8.LORETO, Ana Célia da Costa; LORETO JR, Armando Pereira.  Vetores e geometria analítica . 4. ed. São Paulo: Livros\n",
      "Técnicos e Científicos, 2014. 204p.\n",
      "9.SANTOS, Fabiano José dos; FERREIRA, Silvimar Fábio. Geometria analítica. 1. ed. Porto Alegre: Bookman, 2009. 216 p.\n",
      "Os livros acima citados constam na Biblioteca Universitária e Setorial de Araranguá. \n",
      "\n"
     ]
    }
   ],
   "source": [
    "bibliografia =  bib_basica +  \"\\n \\n\"+ bib_complementar\n",
    "print(bibliografia)"
   ]
  },
  {
   "cell_type": "code",
   "execution_count": null,
   "id": "378d2fd9-071c-41b0-ae48-9919e86889dd",
   "metadata": {},
   "outputs": [],
   "source": [
    "!pip install openai"
   ]
  },
  {
   "cell_type": "code",
   "execution_count": 79,
   "id": "0e0e4264-a789-43c2-a377-6dbd2d7cf011",
   "metadata": {},
   "outputs": [
    {
     "name": "stdout",
     "output_type": "stream",
     "text": [
      " Generate only the book titles, without the year or any other information other than the title \n",
      " BIBLIOGRAFIA BÁSICA\n",
      "1 . BOULOS, Paulo; CAMARGO, Ivan de. Geometria analítica: um tratamento vetorial.  3. ed. São Paulo: Prentice Hall, 2005. \n",
      "543p.\n",
      "2. KUHLKAMP, Nilo. Matrizes e sistemas de equações lineares.  2. ed. Florianópolis: Editora da UFSC, 2007. 166p.\n",
      "3. STEINBRUCH, Alfredo; WINTERLE, Paulo. Álgebra linear. 2. ed. São Paulo: Pearson Makron Books, 1987. 583 p.\n",
      "4. STEINBRUCH, Alfredo; WINTERLE, Paulo. Geometria analítica. 2. ed. São Paulo: McGraw Hill, 1987. 292p.  \n",
      "XIV. \n",
      " \n",
      "BIBLIOGRAFIA COMPLEMENTAR\n",
      "5. JULIANELLI, José Roberto. Cálculo vetorial e geometria analítica . 1 .ed. Rio de Janeiro: Ciência Moderna, 2008. 298p.\n",
      "6.LIMA, Elon Lages. Geometria analítica e álgebra linear . 2. ed. Rio de Janeiro: IMPA, 2006. 323p.\n",
      "7.LIPSCHUTZ, Seymour; LIPSON, Marc. Álgebra linear. 4. ed. Porto Alegre: Bookman, 2011. 432 p.\n",
      "8.LORETO, Ana Célia da Costa; LORETO JR, Armando Pereira.  Vetores e geometria analítica . 4. ed. São Paulo: Livros\n",
      "Técnicos e Científicos, 2014. 204p.\n",
      "9.SANTOS, Fabiano José dos; FERREIRA, Silvimar Fábio. Geometria analítica. 1. ed. Porto Alegre: Bookman, 2009. 216 p.\n",
      "Os livros acima citados constam na Biblioteca Universitária e Setorial de Araranguá. \n",
      "\n"
     ]
    }
   ],
   "source": [
    "#prompt = r\"\"\" generate a table with the names of the books and maintain the separation of basic bibliography and complementary bibliography and maintain an organized structure, without year and author, just the name of the book \"\"\" + \"\\n \" + bibliografia\n",
    "prompt = r\"\"\" Generate only the book titles, without the year or any other information other than the title \"\"\" + \"\\n \" + bibliografia\n",
    "\n",
    "print(prompt)"
   ]
  },
  {
   "cell_type": "code",
   "execution_count": 85,
   "id": "f6b17b10-19d4-472f-9ecb-a7abc7dce578",
   "metadata": {},
   "outputs": [],
   "source": [
    "# modelo LLM usado: mistral openorca"
   ]
  },
  {
   "cell_type": "code",
   "execution_count": 80,
   "id": "44b312fc-90eb-4872-bcfb-6e4f4c75b46c",
   "metadata": {},
   "outputs": [
    {
     "name": "stdout",
     "output_type": "stream",
     "text": [
      "ChatCompletionMessage(content='- Geometria analítica: um tratamento vetorial\\n- Matrizes e sistemas de equações lineares\\n- Álgebra linear\\n- Geometria analítica\\n- Cálculo vetorial e geometria analítica\\n- Geometria analítica e álgebra linear\\n- Álgebra linear\\n- Vetores e geometria analítica\\n- Geometria analítica', role='assistant', function_call=None, tool_calls=None)\n"
     ]
    }
   ],
   "source": [
    "# Example: reuse your existing OpenAI setup\n",
    "from openai import OpenAI\n",
    "\n",
    "# Point to the local server\n",
    "client = OpenAI(base_url=\"http://localhost:1234/v1\", api_key=\"not-needed\")\n",
    "\n",
    "completion = client.chat.completions.create(\n",
    "  model=\"local-model\", # this field is currently unused\n",
    "  messages=[\n",
    "    {\"role\": \"system\", \"content\": \"answer as an assistant.\"},\n",
    "    {\"role\": \"user\", \"content\": prompt}\n",
    "  ],\n",
    "  temperature=0.7,\n",
    ")\n",
    "\n",
    "print(completion.choices[0].message)\n",
    "resposta_ia = completion.choices[0].message"
   ]
  },
  {
   "cell_type": "code",
   "execution_count": 84,
   "id": "ccbd6474-1872-4d1e-ba68-51851f556a14",
   "metadata": {},
   "outputs": [
    {
     "name": "stdout",
     "output_type": "stream",
     "text": [
      "- Geometria analítica: um tratamento vetorial\\n- Matrizes e sistemas de equações lineares\\n- Álgebra linear\\n- Geometria analítica\\n- Cálculo vetorial e geometria analítica\\n- Geometria analítica e álgebra linear\\n- Álgebra linear\\n- Vetores e geometria analítica\\n- Geometria analítica'\n"
     ]
    }
   ],
   "source": [
    "mensagem = completion.choices[0].message\n",
    "mensagem = str(mensagem)\n",
    "inicia = mensagem.find(\"content=\")\n",
    "termina = mensagem.find(\"role=\")\n",
    "print(mensagem[inicia+9:termina-2])\n"
   ]
  }
 ],
 "metadata": {
  "kernelspec": {
   "display_name": "Python 3 (ipykernel)",
   "language": "python",
   "name": "python3"
  },
  "language_info": {
   "codemirror_mode": {
    "name": "ipython",
    "version": 3
   },
   "file_extension": ".py",
   "mimetype": "text/x-python",
   "name": "python",
   "nbconvert_exporter": "python",
   "pygments_lexer": "ipython3",
   "version": "3.11.4"
  }
 },
 "nbformat": 4,
 "nbformat_minor": 5
}
